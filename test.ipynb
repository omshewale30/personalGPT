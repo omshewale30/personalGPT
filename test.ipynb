{
 "cells": [
  {
   "cell_type": "code",
   "id": "initial_id",
   "metadata": {
    "collapsed": true,
    "ExecuteTime": {
     "end_time": "2025-03-27T23:58:15.938399Z",
     "start_time": "2025-03-27T23:58:15.928418Z"
    }
   },
   "source": [
    "import os\n",
    "import glob\n",
    "import gradio as gr"
   ],
   "outputs": [],
   "execution_count": 54
  },
  {
   "metadata": {
    "ExecuteTime": {
     "end_time": "2025-03-28T00:15:42.781893Z",
     "start_time": "2025-03-28T00:15:42.778119Z"
    }
   },
   "cell_type": "code",
   "source": [
    "from langchain.document_loaders import DirectoryLoader, TextLoader\n",
    "from langchain.text_splitter import CharacterTextSplitter\n",
    "from langchain.schema import Document\n",
    "from langchain_openai import OpenAIEmbeddings, ChatOpenAI\n",
    "from langchain_chroma import Chroma\n",
    "import matplotlib.pyplot as plt\n",
    "import numpy as np\n",
    "import plotly.graph_objects as go\n",
    "from langchain.memory import ConversationBufferMemory\n",
    "from langchain.chains import ConversationalRetrievalChain\n",
    "from langchain.embeddings import HuggingFaceEmbeddings\n",
    "from langchain_community.document_loaders import PyPDFLoader\n"
   ],
   "id": "93a5f5ef54903565",
   "outputs": [],
   "execution_count": 70
  },
  {
   "metadata": {
    "ExecuteTime": {
     "end_time": "2025-03-27T23:58:15.946932Z",
     "start_time": "2025-03-27T23:58:15.945045Z"
    }
   },
   "cell_type": "code",
   "source": [
    "MODEL = \"gpt-4o-mini\"\n",
    "db_name = \"vector_db\"\n"
   ],
   "id": "a0c2160194b87e5d",
   "outputs": [],
   "execution_count": 56
  },
  {
   "metadata": {
    "ExecuteTime": {
     "end_time": "2025-03-27T23:58:15.951725Z",
     "start_time": "2025-03-27T23:58:15.948197Z"
    }
   },
   "cell_type": "code",
   "source": [
    "from dotenv import load_dotenv\n",
    "load_dotenv(override=True)\n",
    "os.environ['OPENAI_API_KEY'] = os.getenv(\"OPENAI_API_KEY\")\n"
   ],
   "id": "893b3a6845898091",
   "outputs": [],
   "execution_count": 57
  },
  {
   "metadata": {
    "ExecuteTime": {
     "end_time": "2025-03-27T23:58:15.953724Z",
     "start_time": "2025-03-27T23:58:15.952362Z"
    }
   },
   "cell_type": "code",
   "source": "",
   "id": "4e384eb6c0bf7602",
   "outputs": [],
   "execution_count": 57
  },
  {
   "metadata": {
    "ExecuteTime": {
     "end_time": "2025-03-27T23:58:16.028340Z",
     "start_time": "2025-03-27T23:58:15.954258Z"
    }
   },
   "cell_type": "code",
   "source": [
    "folder = glob.glob(\"Knowledge_base/*\")\n",
    "def add_metadata(doc, doc_type):\n",
    "    doc.metadata[\"doc_type\"] = doc_type\n",
    "    return doc\n",
    "text_loader_kwargs = {'encoding': 'utf-8'}\n",
    "\n",
    "documents = []\n",
    "if folder:\n",
    "    for file in folder:\n",
    "        if file.endswith(\".pdf\"):\n",
    "            loader = PyPDFLoader(file)\n",
    "            pages = []\n",
    "            async for page in loader.alazy_load():\n",
    "                pages.append(page)\n",
    "            resume_text = pages[0].page_content\n",
    "            doc = Document(resume_text)\n",
    "            doc = add_metadata(doc, \"resume\")\n",
    "            documents.append(doc)\n",
    "        else:\n",
    "            \n",
    "            loader = TextLoader(file, **text_loader_kwargs)\n",
    "            text = loader.load()\n",
    "            doc = text[0]\n",
    "            doc = add_metadata(doc, \"text\")\n",
    "            documents.append(doc)\n",
    "\n",
    "print(len(documents))"
   ],
   "id": "bfa4a1015c048634",
   "outputs": [
    {
     "name": "stderr",
     "output_type": "stream",
     "text": [
      "Ignoring wrong pointing object 6 0 (offset 0)\n",
      "Ignoring wrong pointing object 8 0 (offset 0)\n",
      "Ignoring wrong pointing object 14 0 (offset 0)\n",
      "Ignoring wrong pointing object 16 0 (offset 0)\n"
     ]
    },
    {
     "name": "stdout",
     "output_type": "stream",
     "text": [
      "4\n"
     ]
    }
   ],
   "execution_count": 58
  },
  {
   "metadata": {
    "ExecuteTime": {
     "end_time": "2025-03-28T00:17:29.523693Z",
     "start_time": "2025-03-28T00:17:26.913617Z"
    }
   },
   "cell_type": "code",
   "source": [
    "from langchain_unstructured import UnstructuredLoader\n",
    "page_url = \"https://om-shewale.onrender.com/\"\n",
    "loader = UnstructuredLoader(web_url=page_url)\n",
    "pages = []\n",
    "async for page in loader.alazy_load():\n",
    "    pages.append(page)\n",
    "text = pages[0].page_content\n",
    "doc = Document(text)\n",
    "doc = add_metadata(doc, \"text\")\n",
    "documents.append(doc)\n",
    "    \n",
    "    \n",
    "    \n",
    "    "
   ],
   "id": "18680cf0a5441573",
   "outputs": [
    {
     "ename": "ValueError",
     "evalue": "All ufuncs must have type `numpy.ufunc`. Received (<ufunc 'sph_legendre_p'>, <ufunc 'sph_legendre_p'>, <ufunc 'sph_legendre_p'>)",
     "output_type": "error",
     "traceback": [
      "\u001B[31m---------------------------------------------------------------------------\u001B[39m",
      "\u001B[31mValueError\u001B[39m                                Traceback (most recent call last)",
      "\u001B[36mCell\u001B[39m\u001B[36m \u001B[39m\u001B[32mIn[76]\u001B[39m\u001B[32m, line 5\u001B[39m\n\u001B[32m      3\u001B[39m loader = UnstructuredLoader(web_url=page_url)\n\u001B[32m      4\u001B[39m pages = []\n\u001B[32m----> \u001B[39m\u001B[32m5\u001B[39m \u001B[38;5;28;01masync\u001B[39;00m \u001B[38;5;28;01mfor\u001B[39;00m page \u001B[38;5;129;01min\u001B[39;00m loader.alazy_load():\n\u001B[32m      6\u001B[39m     pages.append(page)\n\u001B[32m      7\u001B[39m text = pages[\u001B[32m0\u001B[39m].page_content\n",
      "\u001B[36mFile \u001B[39m\u001B[32m~/Personal Projects /personalGPT/.venv/lib/python3.12/site-packages/langchain_core/document_loaders/base.py:83\u001B[39m, in \u001B[36mBaseLoader.alazy_load\u001B[39m\u001B[34m(self)\u001B[39m\n\u001B[32m     81\u001B[39m done = \u001B[38;5;28mobject\u001B[39m()\n\u001B[32m     82\u001B[39m \u001B[38;5;28;01mwhile\u001B[39;00m \u001B[38;5;28;01mTrue\u001B[39;00m:\n\u001B[32m---> \u001B[39m\u001B[32m83\u001B[39m     doc = \u001B[38;5;28;01mawait\u001B[39;00m run_in_executor(\u001B[38;5;28;01mNone\u001B[39;00m, \u001B[38;5;28mnext\u001B[39m, iterator, done)  \u001B[38;5;66;03m# type: ignore[call-arg, arg-type]\u001B[39;00m\n\u001B[32m     84\u001B[39m     \u001B[38;5;28;01mif\u001B[39;00m doc \u001B[38;5;129;01mis\u001B[39;00m done:\n\u001B[32m     85\u001B[39m         \u001B[38;5;28;01mbreak\u001B[39;00m\n",
      "\u001B[36mFile \u001B[39m\u001B[32m~/Personal Projects /personalGPT/.venv/lib/python3.12/site-packages/langchain_core/runnables/config.py:622\u001B[39m, in \u001B[36mrun_in_executor\u001B[39m\u001B[34m(executor_or_config, func, *args, **kwargs)\u001B[39m\n\u001B[32m    618\u001B[39m         \u001B[38;5;28;01mraise\u001B[39;00m \u001B[38;5;167;01mRuntimeError\u001B[39;00m \u001B[38;5;28;01mfrom\u001B[39;00m\u001B[38;5;250m \u001B[39m\u001B[34;01mexc\u001B[39;00m\n\u001B[32m    620\u001B[39m \u001B[38;5;28;01mif\u001B[39;00m executor_or_config \u001B[38;5;129;01mis\u001B[39;00m \u001B[38;5;28;01mNone\u001B[39;00m \u001B[38;5;129;01mor\u001B[39;00m \u001B[38;5;28misinstance\u001B[39m(executor_or_config, \u001B[38;5;28mdict\u001B[39m):\n\u001B[32m    621\u001B[39m     \u001B[38;5;66;03m# Use default executor with context copied from current context\u001B[39;00m\n\u001B[32m--> \u001B[39m\u001B[32m622\u001B[39m     \u001B[38;5;28;01mreturn\u001B[39;00m \u001B[38;5;28;01mawait\u001B[39;00m asyncio.get_running_loop().run_in_executor(\n\u001B[32m    623\u001B[39m         \u001B[38;5;28;01mNone\u001B[39;00m,\n\u001B[32m    624\u001B[39m         cast(Callable[..., T], partial(copy_context().run, wrapper)),\n\u001B[32m    625\u001B[39m     )\n\u001B[32m    627\u001B[39m \u001B[38;5;28;01mreturn\u001B[39;00m \u001B[38;5;28;01mawait\u001B[39;00m asyncio.get_running_loop().run_in_executor(executor_or_config, wrapper)\n",
      "\u001B[36mFile \u001B[39m\u001B[32m/Library/Frameworks/Python.framework/Versions/3.12/lib/python3.12/concurrent/futures/thread.py:58\u001B[39m, in \u001B[36m_WorkItem.run\u001B[39m\u001B[34m(self)\u001B[39m\n\u001B[32m     55\u001B[39m     \u001B[38;5;28;01mreturn\u001B[39;00m\n\u001B[32m     57\u001B[39m \u001B[38;5;28;01mtry\u001B[39;00m:\n\u001B[32m---> \u001B[39m\u001B[32m58\u001B[39m     result = \u001B[38;5;28;43mself\u001B[39;49m\u001B[43m.\u001B[49m\u001B[43mfn\u001B[49m\u001B[43m(\u001B[49m\u001B[43m*\u001B[49m\u001B[38;5;28;43mself\u001B[39;49m\u001B[43m.\u001B[49m\u001B[43margs\u001B[49m\u001B[43m,\u001B[49m\u001B[43m \u001B[49m\u001B[43m*\u001B[49m\u001B[43m*\u001B[49m\u001B[38;5;28;43mself\u001B[39;49m\u001B[43m.\u001B[49m\u001B[43mkwargs\u001B[49m\u001B[43m)\u001B[49m\n\u001B[32m     59\u001B[39m \u001B[38;5;28;01mexcept\u001B[39;00m \u001B[38;5;167;01mBaseException\u001B[39;00m \u001B[38;5;28;01mas\u001B[39;00m exc:\n\u001B[32m     60\u001B[39m     \u001B[38;5;28mself\u001B[39m.future.set_exception(exc)\n",
      "\u001B[36mFile \u001B[39m\u001B[32m~/Personal Projects /personalGPT/.venv/lib/python3.12/site-packages/langchain_core/runnables/config.py:613\u001B[39m, in \u001B[36mrun_in_executor.<locals>.wrapper\u001B[39m\u001B[34m()\u001B[39m\n\u001B[32m    611\u001B[39m \u001B[38;5;28;01mdef\u001B[39;00m\u001B[38;5;250m \u001B[39m\u001B[34mwrapper\u001B[39m() -> T:\n\u001B[32m    612\u001B[39m     \u001B[38;5;28;01mtry\u001B[39;00m:\n\u001B[32m--> \u001B[39m\u001B[32m613\u001B[39m         \u001B[38;5;28;01mreturn\u001B[39;00m \u001B[43mfunc\u001B[49m\u001B[43m(\u001B[49m\u001B[43m*\u001B[49m\u001B[43margs\u001B[49m\u001B[43m,\u001B[49m\u001B[43m \u001B[49m\u001B[43m*\u001B[49m\u001B[43m*\u001B[49m\u001B[43mkwargs\u001B[49m\u001B[43m)\u001B[49m\n\u001B[32m    614\u001B[39m     \u001B[38;5;28;01mexcept\u001B[39;00m \u001B[38;5;167;01mStopIteration\u001B[39;00m \u001B[38;5;28;01mas\u001B[39;00m exc:\n\u001B[32m    615\u001B[39m         \u001B[38;5;66;03m# StopIteration can't be set on an asyncio.Future\u001B[39;00m\n\u001B[32m    616\u001B[39m         \u001B[38;5;66;03m# it raises a TypeError and leaves the Future pending forever\u001B[39;00m\n\u001B[32m    617\u001B[39m         \u001B[38;5;66;03m# so we need to convert it to a RuntimeError\u001B[39;00m\n\u001B[32m    618\u001B[39m         \u001B[38;5;28;01mraise\u001B[39;00m \u001B[38;5;167;01mRuntimeError\u001B[39;00m \u001B[38;5;28;01mfrom\u001B[39;00m\u001B[38;5;250m \u001B[39m\u001B[34;01mexc\u001B[39;00m\n",
      "\u001B[36mFile \u001B[39m\u001B[32m~/Personal Projects /personalGPT/.venv/lib/python3.12/site-packages/langchain_unstructured/document_loaders.py:178\u001B[39m, in \u001B[36mUnstructuredLoader.lazy_load\u001B[39m\u001B[34m(self)\u001B[39m\n\u001B[32m    175\u001B[39m     \u001B[38;5;28;01mreturn\u001B[39;00m\n\u001B[32m    177\u001B[39m \u001B[38;5;66;03m# Call _UnstructuredBaseLoader normally since file and file_path are not lists\u001B[39;00m\n\u001B[32m--> \u001B[39m\u001B[32m178\u001B[39m \u001B[38;5;28;01myield from\u001B[39;00m load_file(f=\u001B[38;5;28mself\u001B[39m.file, f_path=\u001B[38;5;28mself\u001B[39m.file_path)\n",
      "\u001B[36mFile \u001B[39m\u001B[32m~/Personal Projects /personalGPT/.venv/lib/python3.12/site-packages/langchain_unstructured/document_loaders.py:212\u001B[39m, in \u001B[36m_SingleDocumentLoader.lazy_load\u001B[39m\u001B[34m(self)\u001B[39m\n\u001B[32m    207\u001B[39m \u001B[38;5;28;01mdef\u001B[39;00m\u001B[38;5;250m \u001B[39m\u001B[34mlazy_load\u001B[39m(\u001B[38;5;28mself\u001B[39m) -> Iterator[Document]:\n\u001B[32m    208\u001B[39m \u001B[38;5;250m    \u001B[39m\u001B[33;03m\"\"\"Load file.\"\"\"\u001B[39;00m\n\u001B[32m    209\u001B[39m     elements_json = (\n\u001B[32m    210\u001B[39m         \u001B[38;5;28mself\u001B[39m._post_process_elements_json(\u001B[38;5;28mself\u001B[39m._elements_json)\n\u001B[32m    211\u001B[39m         \u001B[38;5;28;01mif\u001B[39;00m \u001B[38;5;28mself\u001B[39m.post_processors\n\u001B[32m--> \u001B[39m\u001B[32m212\u001B[39m         \u001B[38;5;28;01melse\u001B[39;00m \u001B[38;5;28;43mself\u001B[39;49m\u001B[43m.\u001B[49m\u001B[43m_elements_json\u001B[49m\n\u001B[32m    213\u001B[39m     )\n\u001B[32m    214\u001B[39m     \u001B[38;5;28;01mfor\u001B[39;00m element \u001B[38;5;129;01min\u001B[39;00m elements_json:\n\u001B[32m    215\u001B[39m         metadata = \u001B[38;5;28mself\u001B[39m._get_metadata()\n",
      "\u001B[36mFile \u001B[39m\u001B[32m~/Personal Projects /personalGPT/.venv/lib/python3.12/site-packages/langchain_unstructured/document_loaders.py:231\u001B[39m, in \u001B[36m_SingleDocumentLoader._elements_json\u001B[39m\u001B[34m(self)\u001B[39m\n\u001B[32m    228\u001B[39m \u001B[38;5;28;01mif\u001B[39;00m \u001B[38;5;28mself\u001B[39m.partition_via_api:\n\u001B[32m    229\u001B[39m     \u001B[38;5;28;01mreturn\u001B[39;00m \u001B[38;5;28mself\u001B[39m._elements_via_api\n\u001B[32m--> \u001B[39m\u001B[32m231\u001B[39m \u001B[38;5;28;01mreturn\u001B[39;00m \u001B[38;5;28mself\u001B[39m._convert_elements_to_dicts(\u001B[38;5;28;43mself\u001B[39;49m\u001B[43m.\u001B[49m\u001B[43m_elements_via_local\u001B[49m)\n",
      "\u001B[36mFile \u001B[39m\u001B[32m~/Personal Projects /personalGPT/.venv/lib/python3.12/site-packages/langchain_unstructured/document_loaders.py:249\u001B[39m, in \u001B[36m_SingleDocumentLoader._elements_via_local\u001B[39m\u001B[34m(self)\u001B[39m\n\u001B[32m    243\u001B[39m \u001B[38;5;28;01mif\u001B[39;00m \u001B[38;5;28mself\u001B[39m.file \u001B[38;5;129;01mand\u001B[39;00m \u001B[38;5;28mself\u001B[39m.unstructured_kwargs.get(\u001B[33m\"\u001B[39m\u001B[33mmetadata_filename\u001B[39m\u001B[33m\"\u001B[39m) \u001B[38;5;129;01mis\u001B[39;00m \u001B[38;5;28;01mNone\u001B[39;00m:\n\u001B[32m    244\u001B[39m     \u001B[38;5;28;01mraise\u001B[39;00m \u001B[38;5;167;01mValueError\u001B[39;00m(\n\u001B[32m    245\u001B[39m         \u001B[33m\"\u001B[39m\u001B[33mIf partitioning a fileIO object, metadata_filename must be specified\u001B[39m\u001B[33m\"\u001B[39m\n\u001B[32m    246\u001B[39m         \u001B[33m\"\u001B[39m\u001B[33m as well.\u001B[39m\u001B[33m\"\u001B[39m,\n\u001B[32m    247\u001B[39m     )\n\u001B[32m--> \u001B[39m\u001B[32m249\u001B[39m \u001B[38;5;28;01mreturn\u001B[39;00m \u001B[43mpartition\u001B[49m\u001B[43m(\u001B[49m\n\u001B[32m    250\u001B[39m \u001B[43m    \u001B[49m\u001B[43mfile\u001B[49m\u001B[43m=\u001B[49m\u001B[38;5;28;43mself\u001B[39;49m\u001B[43m.\u001B[49m\u001B[43mfile\u001B[49m\u001B[43m,\u001B[49m\u001B[43m \u001B[49m\u001B[43mfilename\u001B[49m\u001B[43m=\u001B[49m\u001B[38;5;28;43mself\u001B[39;49m\u001B[43m.\u001B[49m\u001B[43mfile_path\u001B[49m\u001B[43m,\u001B[49m\u001B[43m \u001B[49m\u001B[43m*\u001B[49m\u001B[43m*\u001B[49m\u001B[38;5;28;43mself\u001B[39;49m\u001B[43m.\u001B[49m\u001B[43munstructured_kwargs\u001B[49m\n\u001B[32m    251\u001B[39m \u001B[43m\u001B[49m\u001B[43m)\u001B[49m\n",
      "\u001B[36mFile \u001B[39m\u001B[32m~/Personal Projects /personalGPT/.venv/lib/python3.12/site-packages/unstructured/partition/auto.py:289\u001B[39m, in \u001B[36mpartition\u001B[39m\u001B[34m(filename, file, encoding, content_type, url, headers, ssl_verify, request_timeout, strategy, skip_infer_table_types, ocr_languages, languages, detect_language_per_element, pdf_infer_table_structure, extract_images_in_pdf, extract_image_block_types, extract_image_block_output_dir, extract_image_block_to_payload, data_source_metadata, metadata_filename, hi_res_model_name, model_name, starting_page_number, **kwargs)\u001B[39m\n\u001B[32m    286\u001B[39m partitioning_kwargs[\u001B[33m\"\u001B[39m\u001B[33mextract_image_block_types\u001B[39m\u001B[33m\"\u001B[39m] = extract_image_block_types\n\u001B[32m    287\u001B[39m partitioning_kwargs[\u001B[33m\"\u001B[39m\u001B[33mextract_image_block_to_payload\u001B[39m\u001B[33m\"\u001B[39m] = extract_image_block_to_payload\n\u001B[32m--> \u001B[39m\u001B[32m289\u001B[39m partition = \u001B[43mpartitioner_loader\u001B[49m\u001B[43m.\u001B[49m\u001B[43mget\u001B[49m\u001B[43m(\u001B[49m\u001B[43mfile_type\u001B[49m\u001B[43m)\u001B[49m\n\u001B[32m    290\u001B[39m elements = partition(filename=filename, file=file, **partitioning_kwargs)\n\u001B[32m    291\u001B[39m \u001B[38;5;28;01mreturn\u001B[39;00m augment_metadata(elements)\n",
      "\u001B[36mFile \u001B[39m\u001B[32m~/Personal Projects /personalGPT/.venv/lib/python3.12/site-packages/unstructured/partition/auto.py:362\u001B[39m, in \u001B[36m_PartitionerLoader.get\u001B[39m\u001B[34m(self, file_type)\u001B[39m\n\u001B[32m    359\u001B[39m \u001B[38;5;66;03m# -- if the partitioner is not in the cache, load it; note this raises if one or more of\u001B[39;00m\n\u001B[32m    360\u001B[39m \u001B[38;5;66;03m# -- the partitioner's dependencies is not installed.\u001B[39;00m\n\u001B[32m    361\u001B[39m \u001B[38;5;28;01mif\u001B[39;00m file_type \u001B[38;5;129;01mnot\u001B[39;00m \u001B[38;5;129;01min\u001B[39;00m \u001B[38;5;28mself\u001B[39m._partitioners:\n\u001B[32m--> \u001B[39m\u001B[32m362\u001B[39m     \u001B[38;5;28mself\u001B[39m._partitioners[file_type] = \u001B[38;5;28;43mself\u001B[39;49m\u001B[43m.\u001B[49m\u001B[43m_load_partitioner\u001B[49m\u001B[43m(\u001B[49m\u001B[43mfile_type\u001B[49m\u001B[43m)\u001B[49m\n\u001B[32m    364\u001B[39m \u001B[38;5;28;01mreturn\u001B[39;00m \u001B[38;5;28mself\u001B[39m._partitioners[file_type]\n",
      "\u001B[36mFile \u001B[39m\u001B[32m~/Personal Projects /personalGPT/.venv/lib/python3.12/site-packages/unstructured/partition/auto.py:380\u001B[39m, in \u001B[36m_PartitionerLoader._load_partitioner\u001B[39m\u001B[34m(self, file_type)\u001B[39m\n\u001B[32m    378\u001B[39m \u001B[38;5;66;03m# -- load the partitioner and return it --\u001B[39;00m\n\u001B[32m    379\u001B[39m \u001B[38;5;28;01massert\u001B[39;00m file_type.is_partitionable  \u001B[38;5;66;03m# -- would be a programming error if this failed --\u001B[39;00m\n\u001B[32m--> \u001B[39m\u001B[32m380\u001B[39m partitioner_module = \u001B[43mimportlib\u001B[49m\u001B[43m.\u001B[49m\u001B[43mimport_module\u001B[49m\u001B[43m(\u001B[49m\u001B[43mfile_type\u001B[49m\u001B[43m.\u001B[49m\u001B[43mpartitioner_module_qname\u001B[49m\u001B[43m)\u001B[49m\n\u001B[32m    381\u001B[39m \u001B[38;5;28;01mreturn\u001B[39;00m \u001B[38;5;28mgetattr\u001B[39m(partitioner_module, file_type.partitioner_function_name)\n",
      "\u001B[36mFile \u001B[39m\u001B[32m/Library/Frameworks/Python.framework/Versions/3.12/lib/python3.12/importlib/__init__.py:90\u001B[39m, in \u001B[36mimport_module\u001B[39m\u001B[34m(name, package)\u001B[39m\n\u001B[32m     88\u001B[39m             \u001B[38;5;28;01mbreak\u001B[39;00m\n\u001B[32m     89\u001B[39m         level += \u001B[32m1\u001B[39m\n\u001B[32m---> \u001B[39m\u001B[32m90\u001B[39m \u001B[38;5;28;01mreturn\u001B[39;00m \u001B[43m_bootstrap\u001B[49m\u001B[43m.\u001B[49m\u001B[43m_gcd_import\u001B[49m\u001B[43m(\u001B[49m\u001B[43mname\u001B[49m\u001B[43m[\u001B[49m\u001B[43mlevel\u001B[49m\u001B[43m:\u001B[49m\u001B[43m]\u001B[49m\u001B[43m,\u001B[49m\u001B[43m \u001B[49m\u001B[43mpackage\u001B[49m\u001B[43m,\u001B[49m\u001B[43m \u001B[49m\u001B[43mlevel\u001B[49m\u001B[43m)\u001B[49m\n",
      "\u001B[36mFile \u001B[39m\u001B[32m<frozen importlib._bootstrap>:1381\u001B[39m, in \u001B[36m_gcd_import\u001B[39m\u001B[34m(name, package, level)\u001B[39m\n",
      "\u001B[36mFile \u001B[39m\u001B[32m<frozen importlib._bootstrap>:1354\u001B[39m, in \u001B[36m_find_and_load\u001B[39m\u001B[34m(name, import_)\u001B[39m\n",
      "\u001B[36mFile \u001B[39m\u001B[32m<frozen importlib._bootstrap>:1325\u001B[39m, in \u001B[36m_find_and_load_unlocked\u001B[39m\u001B[34m(name, import_)\u001B[39m\n",
      "\u001B[36mFile \u001B[39m\u001B[32m<frozen importlib._bootstrap>:929\u001B[39m, in \u001B[36m_load_unlocked\u001B[39m\u001B[34m(spec)\u001B[39m\n",
      "\u001B[36mFile \u001B[39m\u001B[32m<frozen importlib._bootstrap_external>:994\u001B[39m, in \u001B[36mexec_module\u001B[39m\u001B[34m(self, module)\u001B[39m\n",
      "\u001B[36mFile \u001B[39m\u001B[32m<frozen importlib._bootstrap>:488\u001B[39m, in \u001B[36m_call_with_frames_removed\u001B[39m\u001B[34m(f, *args, **kwds)\u001B[39m\n",
      "\u001B[36mFile \u001B[39m\u001B[32m~/Personal Projects /personalGPT/.venv/lib/python3.12/site-packages/unstructured/partition/html/__init__.py:1\u001B[39m\n\u001B[32m----> \u001B[39m\u001B[32m1\u001B[39m \u001B[38;5;28;01mfrom\u001B[39;00m\u001B[38;5;250m \u001B[39m\u001B[34;01munstructured\u001B[39;00m\u001B[34;01m.\u001B[39;00m\u001B[34;01mpartition\u001B[39;00m\u001B[34;01m.\u001B[39;00m\u001B[34;01mhtml\u001B[39;00m\u001B[34;01m.\u001B[39;00m\u001B[34;01mpartition\u001B[39;00m\u001B[38;5;250m \u001B[39m\u001B[38;5;28;01mimport\u001B[39;00m partition_html\n\u001B[32m      3\u001B[39m __all__ = [\u001B[33m\"\u001B[39m\u001B[33mpartition_html\u001B[39m\u001B[33m\"\u001B[39m]\n",
      "\u001B[36mFile \u001B[39m\u001B[32m~/Personal Projects /personalGPT/.venv/lib/python3.12/site-packages/unstructured/partition/html/partition.py:17\u001B[39m\n\u001B[32m     15\u001B[39m \u001B[38;5;28;01mfrom\u001B[39;00m\u001B[38;5;250m \u001B[39m\u001B[34;01munstructured\u001B[39;00m\u001B[34;01m.\u001B[39;00m\u001B[34;01mfile_utils\u001B[39;00m\u001B[34;01m.\u001B[39;00m\u001B[34;01mmodel\u001B[39;00m\u001B[38;5;250m \u001B[39m\u001B[38;5;28;01mimport\u001B[39;00m FileType\n\u001B[32m     16\u001B[39m \u001B[38;5;28;01mfrom\u001B[39;00m\u001B[38;5;250m \u001B[39m\u001B[34;01munstructured\u001B[39;00m\u001B[34;01m.\u001B[39;00m\u001B[34;01mpartition\u001B[39;00m\u001B[34;01m.\u001B[39;00m\u001B[34;01mcommon\u001B[39;00m\u001B[34;01m.\u001B[39;00m\u001B[34;01mmetadata\u001B[39;00m\u001B[38;5;250m \u001B[39m\u001B[38;5;28;01mimport\u001B[39;00m apply_metadata, get_last_modified_date\n\u001B[32m---> \u001B[39m\u001B[32m17\u001B[39m \u001B[38;5;28;01mfrom\u001B[39;00m\u001B[38;5;250m \u001B[39m\u001B[34;01munstructured\u001B[39;00m\u001B[34;01m.\u001B[39;00m\u001B[34;01mpartition\u001B[39;00m\u001B[34;01m.\u001B[39;00m\u001B[34;01mhtml\u001B[39;00m\u001B[34;01m.\u001B[39;00m\u001B[34;01mparser\u001B[39;00m\u001B[38;5;250m \u001B[39m\u001B[38;5;28;01mimport\u001B[39;00m Flow, html_parser\n\u001B[32m     18\u001B[39m \u001B[38;5;28;01mfrom\u001B[39;00m\u001B[38;5;250m \u001B[39m\u001B[34;01munstructured\u001B[39;00m\u001B[34;01m.\u001B[39;00m\u001B[34;01mpartition\u001B[39;00m\u001B[34;01m.\u001B[39;00m\u001B[34;01mhtml\u001B[39;00m\u001B[34;01m.\u001B[39;00m\u001B[34;01mtransformations\u001B[39;00m\u001B[38;5;250m \u001B[39m\u001B[38;5;28;01mimport\u001B[39;00m (\n\u001B[32m     19\u001B[39m     ontology_to_unstructured_elements,\n\u001B[32m     20\u001B[39m     parse_html_to_ontology,\n\u001B[32m     21\u001B[39m )\n\u001B[32m     22\u001B[39m \u001B[38;5;28;01mfrom\u001B[39;00m\u001B[38;5;250m \u001B[39m\u001B[34;01munstructured\u001B[39;00m\u001B[34;01m.\u001B[39;00m\u001B[34;01mutils\u001B[39;00m\u001B[38;5;250m \u001B[39m\u001B[38;5;28;01mimport\u001B[39;00m is_temp_file_path, lazyproperty\n",
      "\u001B[36mFile \u001B[39m\u001B[32m~/Personal Projects /personalGPT/.venv/lib/python3.12/site-packages/unstructured/partition/html/parser.py:100\u001B[39m\n\u001B[32m     87\u001B[39m \u001B[38;5;28;01mfrom\u001B[39;00m\u001B[38;5;250m \u001B[39m\u001B[34;01munstructured\u001B[39;00m\u001B[34;01m.\u001B[39;00m\u001B[34;01mcommon\u001B[39;00m\u001B[34;01m.\u001B[39;00m\u001B[34;01mhtml_table\u001B[39;00m\u001B[38;5;250m \u001B[39m\u001B[38;5;28;01mimport\u001B[39;00m htmlify_matrix_of_cell_texts\n\u001B[32m     88\u001B[39m \u001B[38;5;28;01mfrom\u001B[39;00m\u001B[38;5;250m \u001B[39m\u001B[34;01munstructured\u001B[39;00m\u001B[34;01m.\u001B[39;00m\u001B[34;01mdocuments\u001B[39;00m\u001B[34;01m.\u001B[39;00m\u001B[34;01melements\u001B[39;00m\u001B[38;5;250m \u001B[39m\u001B[38;5;28;01mimport\u001B[39;00m (\n\u001B[32m     89\u001B[39m     Address,\n\u001B[32m     90\u001B[39m     Element,\n\u001B[32m   (...)\u001B[39m\u001B[32m     98\u001B[39m     Title,\n\u001B[32m     99\u001B[39m )\n\u001B[32m--> \u001B[39m\u001B[32m100\u001B[39m \u001B[38;5;28;01mfrom\u001B[39;00m\u001B[38;5;250m \u001B[39m\u001B[34;01munstructured\u001B[39;00m\u001B[34;01m.\u001B[39;00m\u001B[34;01mpartition\u001B[39;00m\u001B[34;01m.\u001B[39;00m\u001B[34;01mtext_type\u001B[39;00m\u001B[38;5;250m \u001B[39m\u001B[38;5;28;01mimport\u001B[39;00m (\n\u001B[32m    101\u001B[39m     is_bulleted_text,\n\u001B[32m    102\u001B[39m     is_email_address,\n\u001B[32m    103\u001B[39m     is_possible_narrative_text,\n\u001B[32m    104\u001B[39m     is_us_city_state_zip,\n\u001B[32m    105\u001B[39m )\n\u001B[32m    106\u001B[39m \u001B[38;5;28;01mfrom\u001B[39;00m\u001B[38;5;250m \u001B[39m\u001B[34;01munstructured\u001B[39;00m\u001B[34;01m.\u001B[39;00m\u001B[34;01mutils\u001B[39;00m\u001B[38;5;250m \u001B[39m\u001B[38;5;28;01mimport\u001B[39;00m lazyproperty\n\u001B[32m    108\u001B[39m \u001B[38;5;66;03m# ------------------------------------------------------------------------------------------------\u001B[39;00m\n\u001B[32m    109\u001B[39m \u001B[38;5;66;03m# DOMAIN MODEL\u001B[39;00m\n\u001B[32m    110\u001B[39m \u001B[38;5;66;03m# ------------------------------------------------------------------------------------------------\u001B[39;00m\n",
      "\u001B[36mFile \u001B[39m\u001B[32m~/Personal Projects /personalGPT/.venv/lib/python3.12/site-packages/unstructured/partition/text_type.py:20\u001B[39m\n\u001B[32m     11\u001B[39m \u001B[38;5;28;01mfrom\u001B[39;00m\u001B[38;5;250m \u001B[39m\u001B[34;01munstructured\u001B[39;00m\u001B[34;01m.\u001B[39;00m\u001B[34;01mnlp\u001B[39;00m\u001B[34;01m.\u001B[39;00m\u001B[34;01menglish_words\u001B[39;00m\u001B[38;5;250m \u001B[39m\u001B[38;5;28;01mimport\u001B[39;00m ENGLISH_WORDS\n\u001B[32m     12\u001B[39m \u001B[38;5;28;01mfrom\u001B[39;00m\u001B[38;5;250m \u001B[39m\u001B[34;01munstructured\u001B[39;00m\u001B[34;01m.\u001B[39;00m\u001B[34;01mnlp\u001B[39;00m\u001B[34;01m.\u001B[39;00m\u001B[34;01mpatterns\u001B[39;00m\u001B[38;5;250m \u001B[39m\u001B[38;5;28;01mimport\u001B[39;00m (\n\u001B[32m     13\u001B[39m     EMAIL_ADDRESS_PATTERN_RE,\n\u001B[32m     14\u001B[39m     ENDS_IN_PUNCT_RE,\n\u001B[32m   (...)\u001B[39m\u001B[32m     18\u001B[39m     US_PHONE_NUMBERS_RE,\n\u001B[32m     19\u001B[39m )\n\u001B[32m---> \u001B[39m\u001B[32m20\u001B[39m \u001B[38;5;28;01mfrom\u001B[39;00m\u001B[38;5;250m \u001B[39m\u001B[34;01munstructured\u001B[39;00m\u001B[34;01m.\u001B[39;00m\u001B[34;01mnlp\u001B[39;00m\u001B[34;01m.\u001B[39;00m\u001B[34;01mtokenize\u001B[39;00m\u001B[38;5;250m \u001B[39m\u001B[38;5;28;01mimport\u001B[39;00m pos_tag, sent_tokenize, word_tokenize\n\u001B[32m     22\u001B[39m POS_VERB_TAGS: Final[List[\u001B[38;5;28mstr\u001B[39m]] = [\u001B[33m\"\u001B[39m\u001B[33mVB\u001B[39m\u001B[33m\"\u001B[39m, \u001B[33m\"\u001B[39m\u001B[33mVBG\u001B[39m\u001B[33m\"\u001B[39m, \u001B[33m\"\u001B[39m\u001B[33mVBD\u001B[39m\u001B[33m\"\u001B[39m, \u001B[33m\"\u001B[39m\u001B[33mVBN\u001B[39m\u001B[33m\"\u001B[39m, \u001B[33m\"\u001B[39m\u001B[33mVBP\u001B[39m\u001B[33m\"\u001B[39m, \u001B[33m\"\u001B[39m\u001B[33mVBZ\u001B[39m\u001B[33m\"\u001B[39m]\n\u001B[32m     23\u001B[39m ENGLISH_WORD_SPLIT_RE = re.compile(\u001B[33mr\u001B[39m\u001B[33m\"\u001B[39m\u001B[33m[\u001B[39m\u001B[33m\\\u001B[39m\u001B[33ms\u001B[39m\u001B[33m\\\u001B[39m\u001B[33m-,.!?_\u001B[39m\u001B[33m\\\u001B[39m\u001B[33m/]+\u001B[39m\u001B[33m\"\u001B[39m)\n",
      "\u001B[36mFile \u001B[39m\u001B[32m~/Personal Projects /personalGPT/.venv/lib/python3.12/site-packages/unstructured/nlp/tokenize.py:7\u001B[39m\n\u001B[32m      4\u001B[39m \u001B[38;5;28;01mfrom\u001B[39;00m\u001B[38;5;250m \u001B[39m\u001B[34;01mfunctools\u001B[39;00m\u001B[38;5;250m \u001B[39m\u001B[38;5;28;01mimport\u001B[39;00m lru_cache\n\u001B[32m      5\u001B[39m \u001B[38;5;28;01mfrom\u001B[39;00m\u001B[38;5;250m \u001B[39m\u001B[34;01mtyping\u001B[39;00m\u001B[38;5;250m \u001B[39m\u001B[38;5;28;01mimport\u001B[39;00m Final, List, Tuple\n\u001B[32m----> \u001B[39m\u001B[32m7\u001B[39m \u001B[38;5;28;01mimport\u001B[39;00m\u001B[38;5;250m \u001B[39m\u001B[34;01mnltk\u001B[39;00m\n\u001B[32m      8\u001B[39m \u001B[38;5;28;01mfrom\u001B[39;00m\u001B[38;5;250m \u001B[39m\u001B[34;01mnltk\u001B[39;00m\u001B[38;5;250m \u001B[39m\u001B[38;5;28;01mimport\u001B[39;00m pos_tag \u001B[38;5;28;01mas\u001B[39;00m _pos_tag\n\u001B[32m      9\u001B[39m \u001B[38;5;28;01mfrom\u001B[39;00m\u001B[38;5;250m \u001B[39m\u001B[34;01mnltk\u001B[39;00m\u001B[38;5;250m \u001B[39m\u001B[38;5;28;01mimport\u001B[39;00m sent_tokenize \u001B[38;5;28;01mas\u001B[39;00m _sent_tokenize\n",
      "\u001B[36mFile \u001B[39m\u001B[32m~/Personal Projects /personalGPT/.venv/lib/python3.12/site-packages/nltk/__init__.py:133\u001B[39m\n\u001B[32m    125\u001B[39m     subprocess.Popen = _fake_Popen\n\u001B[32m    127\u001B[39m \u001B[38;5;66;03m###########################################################\u001B[39;00m\n\u001B[32m    128\u001B[39m \u001B[38;5;66;03m# TOP-LEVEL MODULES\u001B[39;00m\n\u001B[32m    129\u001B[39m \u001B[38;5;66;03m###########################################################\u001B[39;00m\n\u001B[32m    130\u001B[39m \n\u001B[32m    131\u001B[39m \u001B[38;5;66;03m# Import top-level functionality into top-level namespace\u001B[39;00m\n\u001B[32m--> \u001B[39m\u001B[32m133\u001B[39m \u001B[38;5;28;01mfrom\u001B[39;00m\u001B[38;5;250m \u001B[39m\u001B[34;01mnltk\u001B[39;00m\u001B[34;01m.\u001B[39;00m\u001B[34;01mcollocations\u001B[39;00m\u001B[38;5;250m \u001B[39m\u001B[38;5;28;01mimport\u001B[39;00m *\n\u001B[32m    134\u001B[39m \u001B[38;5;28;01mfrom\u001B[39;00m\u001B[38;5;250m \u001B[39m\u001B[34;01mnltk\u001B[39;00m\u001B[34;01m.\u001B[39;00m\u001B[34;01mdecorators\u001B[39;00m\u001B[38;5;250m \u001B[39m\u001B[38;5;28;01mimport\u001B[39;00m decorator, memoize\n\u001B[32m    135\u001B[39m \u001B[38;5;28;01mfrom\u001B[39;00m\u001B[38;5;250m \u001B[39m\u001B[34;01mnltk\u001B[39;00m\u001B[34;01m.\u001B[39;00m\u001B[34;01mfeatstruct\u001B[39;00m\u001B[38;5;250m \u001B[39m\u001B[38;5;28;01mimport\u001B[39;00m *\n",
      "\u001B[36mFile \u001B[39m\u001B[32m~/Personal Projects /personalGPT/.venv/lib/python3.12/site-packages/nltk/collocations.py:36\u001B[39m\n\u001B[32m     33\u001B[39m \u001B[38;5;28;01mimport\u001B[39;00m\u001B[38;5;250m \u001B[39m\u001B[34;01mitertools\u001B[39;00m\u001B[38;5;250m \u001B[39m\u001B[38;5;28;01mas\u001B[39;00m\u001B[38;5;250m \u001B[39m\u001B[34;01m_itertools\u001B[39;00m\n\u001B[32m     35\u001B[39m \u001B[38;5;66;03m# these two unused imports are referenced in collocations.doctest\u001B[39;00m\n\u001B[32m---> \u001B[39m\u001B[32m36\u001B[39m \u001B[38;5;28;01mfrom\u001B[39;00m\u001B[38;5;250m \u001B[39m\u001B[34;01mnltk\u001B[39;00m\u001B[34;01m.\u001B[39;00m\u001B[34;01mmetrics\u001B[39;00m\u001B[38;5;250m \u001B[39m\u001B[38;5;28;01mimport\u001B[39;00m (\n\u001B[32m     37\u001B[39m     BigramAssocMeasures,\n\u001B[32m     38\u001B[39m     ContingencyMeasures,\n\u001B[32m     39\u001B[39m     QuadgramAssocMeasures,\n\u001B[32m     40\u001B[39m     TrigramAssocMeasures,\n\u001B[32m     41\u001B[39m )\n\u001B[32m     42\u001B[39m \u001B[38;5;28;01mfrom\u001B[39;00m\u001B[38;5;250m \u001B[39m\u001B[34;01mnltk\u001B[39;00m\u001B[34;01m.\u001B[39;00m\u001B[34;01mmetrics\u001B[39;00m\u001B[34;01m.\u001B[39;00m\u001B[34;01mspearman\u001B[39;00m\u001B[38;5;250m \u001B[39m\u001B[38;5;28;01mimport\u001B[39;00m ranks_from_scores, spearman_correlation\n\u001B[32m     43\u001B[39m \u001B[38;5;28;01mfrom\u001B[39;00m\u001B[38;5;250m \u001B[39m\u001B[34;01mnltk\u001B[39;00m\u001B[34;01m.\u001B[39;00m\u001B[34;01mprobability\u001B[39;00m\u001B[38;5;250m \u001B[39m\u001B[38;5;28;01mimport\u001B[39;00m FreqDist\n",
      "\u001B[36mFile \u001B[39m\u001B[32m~/Personal Projects /personalGPT/.venv/lib/python3.12/site-packages/nltk/metrics/__init__.py:18\u001B[39m\n\u001B[32m     16\u001B[39m \u001B[38;5;28;01mfrom\u001B[39;00m\u001B[38;5;250m \u001B[39m\u001B[34;01mnltk\u001B[39;00m\u001B[34;01m.\u001B[39;00m\u001B[34;01mmetrics\u001B[39;00m\u001B[34;01m.\u001B[39;00m\u001B[34;01magreement\u001B[39;00m\u001B[38;5;250m \u001B[39m\u001B[38;5;28;01mimport\u001B[39;00m AnnotationTask\n\u001B[32m     17\u001B[39m \u001B[38;5;28;01mfrom\u001B[39;00m\u001B[38;5;250m \u001B[39m\u001B[34;01mnltk\u001B[39;00m\u001B[34;01m.\u001B[39;00m\u001B[34;01mmetrics\u001B[39;00m\u001B[34;01m.\u001B[39;00m\u001B[34;01maline\u001B[39;00m\u001B[38;5;250m \u001B[39m\u001B[38;5;28;01mimport\u001B[39;00m align\n\u001B[32m---> \u001B[39m\u001B[32m18\u001B[39m \u001B[38;5;28;01mfrom\u001B[39;00m\u001B[38;5;250m \u001B[39m\u001B[34;01mnltk\u001B[39;00m\u001B[34;01m.\u001B[39;00m\u001B[34;01mmetrics\u001B[39;00m\u001B[34;01m.\u001B[39;00m\u001B[34;01massociation\u001B[39;00m\u001B[38;5;250m \u001B[39m\u001B[38;5;28;01mimport\u001B[39;00m (\n\u001B[32m     19\u001B[39m     BigramAssocMeasures,\n\u001B[32m     20\u001B[39m     ContingencyMeasures,\n\u001B[32m     21\u001B[39m     NgramAssocMeasures,\n\u001B[32m     22\u001B[39m     QuadgramAssocMeasures,\n\u001B[32m     23\u001B[39m     TrigramAssocMeasures,\n\u001B[32m     24\u001B[39m )\n\u001B[32m     25\u001B[39m \u001B[38;5;28;01mfrom\u001B[39;00m\u001B[38;5;250m \u001B[39m\u001B[34;01mnltk\u001B[39;00m\u001B[34;01m.\u001B[39;00m\u001B[34;01mmetrics\u001B[39;00m\u001B[34;01m.\u001B[39;00m\u001B[34;01mconfusionmatrix\u001B[39;00m\u001B[38;5;250m \u001B[39m\u001B[38;5;28;01mimport\u001B[39;00m ConfusionMatrix\n\u001B[32m     26\u001B[39m \u001B[38;5;28;01mfrom\u001B[39;00m\u001B[38;5;250m \u001B[39m\u001B[34;01mnltk\u001B[39;00m\u001B[34;01m.\u001B[39;00m\u001B[34;01mmetrics\u001B[39;00m\u001B[34;01m.\u001B[39;00m\u001B[34;01mdistance\u001B[39;00m\u001B[38;5;250m \u001B[39m\u001B[38;5;28;01mimport\u001B[39;00m (\n\u001B[32m     27\u001B[39m     binary_distance,\n\u001B[32m     28\u001B[39m     custom_distance,\n\u001B[32m   (...)\u001B[39m\u001B[32m     35\u001B[39m     presence,\n\u001B[32m     36\u001B[39m )\n",
      "\u001B[36mFile \u001B[39m\u001B[32m~/Personal Projects /personalGPT/.venv/lib/python3.12/site-packages/nltk/metrics/association.py:26\u001B[39m\n\u001B[32m     23\u001B[39m _SMALL = \u001B[32m1e-20\u001B[39m\n\u001B[32m     25\u001B[39m \u001B[38;5;28;01mtry\u001B[39;00m:\n\u001B[32m---> \u001B[39m\u001B[32m26\u001B[39m     \u001B[38;5;28;01mfrom\u001B[39;00m\u001B[38;5;250m \u001B[39m\u001B[34;01mscipy\u001B[39;00m\u001B[34;01m.\u001B[39;00m\u001B[34;01mstats\u001B[39;00m\u001B[38;5;250m \u001B[39m\u001B[38;5;28;01mimport\u001B[39;00m fisher_exact\n\u001B[32m     27\u001B[39m \u001B[38;5;28;01mexcept\u001B[39;00m \u001B[38;5;167;01mImportError\u001B[39;00m:\n\u001B[32m     29\u001B[39m     \u001B[38;5;28;01mdef\u001B[39;00m\u001B[38;5;250m \u001B[39m\u001B[34mfisher_exact\u001B[39m(*_args, **_kwargs):\n",
      "\u001B[36mFile \u001B[39m\u001B[32m~/Personal Projects /personalGPT/.venv/lib/python3.12/site-packages/scipy/stats/__init__.py:624\u001B[39m\n\u001B[32m      1\u001B[39m \u001B[33;03m\"\"\"\u001B[39;00m\n\u001B[32m      2\u001B[39m \u001B[33;03m.. _statsrefmanual:\u001B[39;00m\n\u001B[32m      3\u001B[39m \n\u001B[32m   (...)\u001B[39m\u001B[32m    619\u001B[39m \n\u001B[32m    620\u001B[39m \u001B[33;03m\"\"\"\u001B[39;00m  \u001B[38;5;66;03m# noqa: E501\u001B[39;00m\n\u001B[32m    622\u001B[39m \u001B[38;5;28;01mfrom\u001B[39;00m\u001B[38;5;250m \u001B[39m\u001B[34;01m.\u001B[39;00m\u001B[34;01m_warnings_errors\u001B[39;00m\u001B[38;5;250m \u001B[39m\u001B[38;5;28;01mimport\u001B[39;00m (ConstantInputWarning, NearConstantInputWarning,\n\u001B[32m    623\u001B[39m                                DegenerateDataWarning, FitError)\n\u001B[32m--> \u001B[39m\u001B[32m624\u001B[39m \u001B[38;5;28;01mfrom\u001B[39;00m\u001B[38;5;250m \u001B[39m\u001B[34;01m.\u001B[39;00m\u001B[34;01m_stats_py\u001B[39;00m\u001B[38;5;250m \u001B[39m\u001B[38;5;28;01mimport\u001B[39;00m *\n\u001B[32m    625\u001B[39m \u001B[38;5;28;01mfrom\u001B[39;00m\u001B[38;5;250m \u001B[39m\u001B[34;01m.\u001B[39;00m\u001B[34;01m_variation\u001B[39;00m\u001B[38;5;250m \u001B[39m\u001B[38;5;28;01mimport\u001B[39;00m variation\n\u001B[32m    626\u001B[39m \u001B[38;5;28;01mfrom\u001B[39;00m\u001B[38;5;250m \u001B[39m\u001B[34;01m.\u001B[39;00m\u001B[34;01mdistributions\u001B[39;00m\u001B[38;5;250m \u001B[39m\u001B[38;5;28;01mimport\u001B[39;00m *\n",
      "\u001B[36mFile \u001B[39m\u001B[32m~/Personal Projects /personalGPT/.venv/lib/python3.12/site-packages/scipy/stats/_stats_py.py:39\u001B[39m\n\u001B[32m     36\u001B[39m \u001B[38;5;28;01mfrom\u001B[39;00m\u001B[38;5;250m \u001B[39m\u001B[34;01mnumpy\u001B[39;00m\u001B[38;5;250m \u001B[39m\u001B[38;5;28;01mimport\u001B[39;00m array, asarray, ma\n\u001B[32m     38\u001B[39m \u001B[38;5;28;01mfrom\u001B[39;00m\u001B[38;5;250m \u001B[39m\u001B[34;01mscipy\u001B[39;00m\u001B[38;5;250m \u001B[39m\u001B[38;5;28;01mimport\u001B[39;00m sparse\n\u001B[32m---> \u001B[39m\u001B[32m39\u001B[39m \u001B[38;5;28;01mfrom\u001B[39;00m\u001B[38;5;250m \u001B[39m\u001B[34;01mscipy\u001B[39;00m\u001B[34;01m.\u001B[39;00m\u001B[34;01mspatial\u001B[39;00m\u001B[38;5;250m \u001B[39m\u001B[38;5;28;01mimport\u001B[39;00m distance_matrix\n\u001B[32m     41\u001B[39m \u001B[38;5;28;01mfrom\u001B[39;00m\u001B[38;5;250m \u001B[39m\u001B[34;01mscipy\u001B[39;00m\u001B[34;01m.\u001B[39;00m\u001B[34;01moptimize\u001B[39;00m\u001B[38;5;250m \u001B[39m\u001B[38;5;28;01mimport\u001B[39;00m milp, LinearConstraint\n\u001B[32m     42\u001B[39m \u001B[38;5;28;01mfrom\u001B[39;00m\u001B[38;5;250m \u001B[39m\u001B[34;01mscipy\u001B[39;00m\u001B[34;01m.\u001B[39;00m\u001B[34;01m_lib\u001B[39;00m\u001B[34;01m.\u001B[39;00m\u001B[34;01m_util\u001B[39;00m\u001B[38;5;250m \u001B[39m\u001B[38;5;28;01mimport\u001B[39;00m (check_random_state, _get_nan,\n\u001B[32m     43\u001B[39m                               _rename_parameter, _contains_nan,\n\u001B[32m     44\u001B[39m                               AxisError, _lazywhere)\n",
      "\u001B[36mFile \u001B[39m\u001B[32m~/Personal Projects /personalGPT/.venv/lib/python3.12/site-packages/scipy/spatial/__init__.py:116\u001B[39m\n\u001B[32m    114\u001B[39m \u001B[38;5;28;01mfrom\u001B[39;00m\u001B[38;5;250m \u001B[39m\u001B[34;01m.\u001B[39;00m\u001B[34;01m_plotutils\u001B[39;00m\u001B[38;5;250m \u001B[39m\u001B[38;5;28;01mimport\u001B[39;00m *\n\u001B[32m    115\u001B[39m \u001B[38;5;28;01mfrom\u001B[39;00m\u001B[38;5;250m \u001B[39m\u001B[34;01m.\u001B[39;00m\u001B[34;01m_procrustes\u001B[39;00m\u001B[38;5;250m \u001B[39m\u001B[38;5;28;01mimport\u001B[39;00m procrustes\n\u001B[32m--> \u001B[39m\u001B[32m116\u001B[39m \u001B[38;5;28;01mfrom\u001B[39;00m\u001B[38;5;250m \u001B[39m\u001B[34;01m.\u001B[39;00m\u001B[34;01m_geometric_slerp\u001B[39;00m\u001B[38;5;250m \u001B[39m\u001B[38;5;28;01mimport\u001B[39;00m geometric_slerp\n\u001B[32m    118\u001B[39m \u001B[38;5;66;03m# Deprecated namespaces, to be removed in v2.0.0\u001B[39;00m\n\u001B[32m    119\u001B[39m \u001B[38;5;28;01mfrom\u001B[39;00m\u001B[38;5;250m \u001B[39m\u001B[34;01m.\u001B[39;00m\u001B[38;5;250m \u001B[39m\u001B[38;5;28;01mimport\u001B[39;00m ckdtree, kdtree, qhull\n",
      "\u001B[36mFile \u001B[39m\u001B[32m~/Personal Projects /personalGPT/.venv/lib/python3.12/site-packages/scipy/spatial/_geometric_slerp.py:7\u001B[39m\n\u001B[32m      4\u001B[39m \u001B[38;5;28;01mfrom\u001B[39;00m\u001B[38;5;250m \u001B[39m\u001B[34;01mtyping\u001B[39;00m\u001B[38;5;250m \u001B[39m\u001B[38;5;28;01mimport\u001B[39;00m TYPE_CHECKING\n\u001B[32m      6\u001B[39m \u001B[38;5;28;01mimport\u001B[39;00m\u001B[38;5;250m \u001B[39m\u001B[34;01mnumpy\u001B[39;00m\u001B[38;5;250m \u001B[39m\u001B[38;5;28;01mas\u001B[39;00m\u001B[38;5;250m \u001B[39m\u001B[34;01mnp\u001B[39;00m\n\u001B[32m----> \u001B[39m\u001B[32m7\u001B[39m \u001B[38;5;28;01mfrom\u001B[39;00m\u001B[38;5;250m \u001B[39m\u001B[34;01mscipy\u001B[39;00m\u001B[34;01m.\u001B[39;00m\u001B[34;01mspatial\u001B[39;00m\u001B[34;01m.\u001B[39;00m\u001B[34;01mdistance\u001B[39;00m\u001B[38;5;250m \u001B[39m\u001B[38;5;28;01mimport\u001B[39;00m euclidean\n\u001B[32m      9\u001B[39m \u001B[38;5;28;01mif\u001B[39;00m TYPE_CHECKING:\n\u001B[32m     10\u001B[39m     \u001B[38;5;28;01mimport\u001B[39;00m\u001B[38;5;250m \u001B[39m\u001B[34;01mnumpy\u001B[39;00m\u001B[34;01m.\u001B[39;00m\u001B[34;01mtyping\u001B[39;00m\u001B[38;5;250m \u001B[39m\u001B[38;5;28;01mas\u001B[39;00m\u001B[38;5;250m \u001B[39m\u001B[34;01mnpt\u001B[39;00m\n",
      "\u001B[36mFile \u001B[39m\u001B[32m~/Personal Projects /personalGPT/.venv/lib/python3.12/site-packages/scipy/spatial/distance.py:121\u001B[39m\n\u001B[32m    119\u001B[39m \u001B[38;5;28;01mfrom\u001B[39;00m\u001B[38;5;250m \u001B[39m\u001B[34;01m.\u001B[39;00m\u001B[38;5;250m \u001B[39m\u001B[38;5;28;01mimport\u001B[39;00m _hausdorff\n\u001B[32m    120\u001B[39m \u001B[38;5;28;01mfrom\u001B[39;00m\u001B[38;5;250m \u001B[39m\u001B[34;01m.\u001B[39;00m\u001B[34;01m.\u001B[39;00m\u001B[34;01mlinalg\u001B[39;00m\u001B[38;5;250m \u001B[39m\u001B[38;5;28;01mimport\u001B[39;00m norm\n\u001B[32m--> \u001B[39m\u001B[32m121\u001B[39m \u001B[38;5;28;01mfrom\u001B[39;00m\u001B[38;5;250m \u001B[39m\u001B[34;01m.\u001B[39;00m\u001B[34;01m.\u001B[39;00m\u001B[34;01mspecial\u001B[39;00m\u001B[38;5;250m \u001B[39m\u001B[38;5;28;01mimport\u001B[39;00m rel_entr\n\u001B[32m    123\u001B[39m \u001B[38;5;28;01mfrom\u001B[39;00m\u001B[38;5;250m \u001B[39m\u001B[34;01m.\u001B[39;00m\u001B[38;5;250m \u001B[39m\u001B[38;5;28;01mimport\u001B[39;00m _distance_pybind\n\u001B[32m    126\u001B[39m \u001B[38;5;28;01mdef\u001B[39;00m\u001B[38;5;250m \u001B[39m\u001B[34m_copy_array_if_base_present\u001B[39m(a):\n",
      "\u001B[36mFile \u001B[39m\u001B[32m~/Personal Projects /personalGPT/.venv/lib/python3.12/site-packages/scipy/special/__init__.py:826\u001B[39m\n\u001B[32m    820\u001B[39m \u001B[38;5;66;03m# Replace some function definitions from _ufuncs to add Array API support\u001B[39;00m\n\u001B[32m    821\u001B[39m \u001B[38;5;28;01mfrom\u001B[39;00m\u001B[38;5;250m \u001B[39m\u001B[34;01m.\u001B[39;00m\u001B[34;01m_support_alternative_backends\u001B[39;00m\u001B[38;5;250m \u001B[39m\u001B[38;5;28;01mimport\u001B[39;00m (\n\u001B[32m    822\u001B[39m     log_ndtr, ndtr, ndtri, erf, erfc, i0, i0e, i1, i1e, gammaln,\n\u001B[32m    823\u001B[39m     gammainc, gammaincc, logit, expit, entr, rel_entr, xlogy,\n\u001B[32m    824\u001B[39m     chdtr, chdtrc, betainc, betaincc, stdtr)\n\u001B[32m--> \u001B[39m\u001B[32m826\u001B[39m \u001B[38;5;28;01mfrom\u001B[39;00m\u001B[38;5;250m \u001B[39m\u001B[34;01m.\u001B[39;00m\u001B[38;5;250m \u001B[39m\u001B[38;5;28;01mimport\u001B[39;00m _basic\n\u001B[32m    827\u001B[39m \u001B[38;5;28;01mfrom\u001B[39;00m\u001B[38;5;250m \u001B[39m\u001B[34;01m.\u001B[39;00m\u001B[34;01m_basic\u001B[39;00m\u001B[38;5;250m \u001B[39m\u001B[38;5;28;01mimport\u001B[39;00m *\n\u001B[32m    829\u001B[39m \u001B[38;5;28;01mfrom\u001B[39;00m\u001B[38;5;250m \u001B[39m\u001B[34;01m.\u001B[39;00m\u001B[34;01m_logsumexp\u001B[39;00m\u001B[38;5;250m \u001B[39m\u001B[38;5;28;01mimport\u001B[39;00m logsumexp, softmax, log_softmax\n",
      "\u001B[36mFile \u001B[39m\u001B[32m~/Personal Projects /personalGPT/.venv/lib/python3.12/site-packages/scipy/special/_basic.py:22\u001B[39m\n\u001B[32m     20\u001B[39m \u001B[38;5;28;01mfrom\u001B[39;00m\u001B[38;5;250m \u001B[39m\u001B[34;01m.\u001B[39;00m\u001B[38;5;250m \u001B[39m\u001B[38;5;28;01mimport\u001B[39;00m _specfun\n\u001B[32m     21\u001B[39m \u001B[38;5;28;01mfrom\u001B[39;00m\u001B[38;5;250m \u001B[39m\u001B[34;01m.\u001B[39;00m\u001B[34;01m_comb\u001B[39;00m\u001B[38;5;250m \u001B[39m\u001B[38;5;28;01mimport\u001B[39;00m _comb_int\n\u001B[32m---> \u001B[39m\u001B[32m22\u001B[39m \u001B[38;5;28;01mfrom\u001B[39;00m\u001B[38;5;250m \u001B[39m\u001B[34;01m.\u001B[39;00m\u001B[34;01m_multiufuncs\u001B[39;00m\u001B[38;5;250m \u001B[39m\u001B[38;5;28;01mimport\u001B[39;00m (assoc_legendre_p_all,\n\u001B[32m     23\u001B[39m                            legendre_p_all)\n\u001B[32m     24\u001B[39m \u001B[38;5;28;01mfrom\u001B[39;00m\u001B[38;5;250m \u001B[39m\u001B[34;01mscipy\u001B[39;00m\u001B[34;01m.\u001B[39;00m\u001B[34;01m_lib\u001B[39;00m\u001B[34;01m.\u001B[39;00m\u001B[34;01mdeprecation\u001B[39;00m\u001B[38;5;250m \u001B[39m\u001B[38;5;28;01mimport\u001B[39;00m _deprecated\n\u001B[32m     27\u001B[39m __all__ = [\n\u001B[32m     28\u001B[39m     \u001B[33m'\u001B[39m\u001B[33mai_zeros\u001B[39m\u001B[33m'\u001B[39m,\n\u001B[32m     29\u001B[39m     \u001B[33m'\u001B[39m\u001B[33massoc_laguerre\u001B[39m\u001B[33m'\u001B[39m,\n\u001B[32m   (...)\u001B[39m\u001B[32m     87\u001B[39m     \u001B[33m'\u001B[39m\u001B[33mzeta\u001B[39m\u001B[33m'\u001B[39m\n\u001B[32m     88\u001B[39m ]\n",
      "\u001B[36mFile \u001B[39m\u001B[32m~/Personal Projects /personalGPT/.venv/lib/python3.12/site-packages/scipy/special/_multiufuncs.py:142\u001B[39m\n\u001B[32m    137\u001B[39m             out = \u001B[38;5;28mself\u001B[39m._finalize_out(out)\n\u001B[32m    139\u001B[39m         \u001B[38;5;28;01mreturn\u001B[39;00m out\n\u001B[32m--> \u001B[39m\u001B[32m142\u001B[39m sph_legendre_p = \u001B[43mMultiUFunc\u001B[49m\u001B[43m(\u001B[49m\n\u001B[32m    143\u001B[39m \u001B[43m    \u001B[49m\u001B[43msph_legendre_p\u001B[49m\u001B[43m,\u001B[49m\n\u001B[32m    144\u001B[39m \u001B[38;5;250;43m    \u001B[39;49m\u001B[33;43mr\u001B[39;49m\u001B[33;43;03m\"\"\"sph_legendre_p(n, m, theta, *, diff_n=0)\u001B[39;49;00m\n\u001B[32m    145\u001B[39m \n\u001B[32m    146\u001B[39m \u001B[33;43;03m    Spherical Legendre polynomial of the first kind.\u001B[39;49;00m\n\u001B[32m    147\u001B[39m \n\u001B[32m    148\u001B[39m \u001B[33;43;03m    Parameters\u001B[39;49;00m\n\u001B[32m    149\u001B[39m \u001B[33;43;03m    ----------\u001B[39;49;00m\n\u001B[32m    150\u001B[39m \u001B[33;43;03m    n : ArrayLike[int]\u001B[39;49;00m\n\u001B[32m    151\u001B[39m \u001B[33;43;03m        Degree of the spherical Legendre polynomial. Must have ``n >= 0``.\u001B[39;49;00m\n\u001B[32m    152\u001B[39m \u001B[33;43;03m    m : ArrayLike[int]\u001B[39;49;00m\n\u001B[32m    153\u001B[39m \u001B[33;43;03m        Order of the spherical Legendre polynomial.\u001B[39;49;00m\n\u001B[32m    154\u001B[39m \u001B[33;43;03m    theta : ArrayLike[float]\u001B[39;49;00m\n\u001B[32m    155\u001B[39m \u001B[33;43;03m        Input value.\u001B[39;49;00m\n\u001B[32m    156\u001B[39m \u001B[33;43;03m    diff_n : Optional[int]\u001B[39;49;00m\n\u001B[32m    157\u001B[39m \u001B[33;43;03m        A non-negative integer. Compute and return all derivatives up\u001B[39;49;00m\n\u001B[32m    158\u001B[39m \u001B[33;43;03m        to order ``diff_n``. Default is 0.\u001B[39;49;00m\n\u001B[32m    159\u001B[39m \n\u001B[32m    160\u001B[39m \u001B[33;43;03m    Returns\u001B[39;49;00m\n\u001B[32m    161\u001B[39m \u001B[33;43;03m    -------\u001B[39;49;00m\n\u001B[32m    162\u001B[39m \u001B[33;43;03m    p : ndarray or tuple[ndarray]\u001B[39;49;00m\n\u001B[32m    163\u001B[39m \u001B[33;43;03m        Spherical Legendre polynomial with ``diff_n`` derivatives.\u001B[39;49;00m\n\u001B[32m    164\u001B[39m \n\u001B[32m    165\u001B[39m \u001B[33;43;03m    Notes\u001B[39;49;00m\n\u001B[32m    166\u001B[39m \u001B[33;43;03m    -----\u001B[39;49;00m\n\u001B[32m    167\u001B[39m \u001B[33;43;03m    The spherical counterpart of an (unnormalized) associated Legendre polynomial has\u001B[39;49;00m\n\u001B[32m    168\u001B[39m \u001B[33;43;03m    the additional factor\u001B[39;49;00m\n\u001B[32m    169\u001B[39m \n\u001B[32m    170\u001B[39m \u001B[33;43;03m    .. math::\u001B[39;49;00m\n\u001B[32m    171\u001B[39m \n\u001B[32m    172\u001B[39m \u001B[33;43;03m        \\sqrt{\\frac{(2 n + 1) (n - m)!}{4 \\pi (n + m)!}}\u001B[39;49;00m\n\u001B[32m    173\u001B[39m \n\u001B[32m    174\u001B[39m \u001B[33;43;03m    It is the same as the spherical harmonic :math:`Y_{n}^{m}(\\theta, \\phi)`\u001B[39;49;00m\n\u001B[32m    175\u001B[39m \u001B[33;43;03m    with :math:`\\phi = 0`.\u001B[39;49;00m\n\u001B[32m    176\u001B[39m \u001B[33;43;03m    \"\"\"\u001B[39;49;00m\u001B[43m,\u001B[49m\u001B[43m \u001B[49m\u001B[43mdiff_n\u001B[49m\u001B[43m=\u001B[49m\u001B[32;43m0\u001B[39;49m\n\u001B[32m    177\u001B[39m \u001B[43m)\u001B[49m\n\u001B[32m    180\u001B[39m \u001B[38;5;129m@sph_legendre_p\u001B[39m._override_key\n\u001B[32m    181\u001B[39m \u001B[38;5;28;01mdef\u001B[39;00m\u001B[38;5;250m \u001B[39m\u001B[34m_\u001B[39m(diff_n):\n\u001B[32m    182\u001B[39m     diff_n = _nonneg_int_or_fail(diff_n, \u001B[33m\"\u001B[39m\u001B[33mdiff_n\u001B[39m\u001B[33m\"\u001B[39m, strict=\u001B[38;5;28;01mFalse\u001B[39;00m)\n",
      "\u001B[36mFile \u001B[39m\u001B[32m~/Personal Projects /personalGPT/.venv/lib/python3.12/site-packages/scipy/special/_multiufuncs.py:41\u001B[39m, in \u001B[36mMultiUFunc.__init__\u001B[39m\u001B[34m(self, ufunc_or_ufuncs, doc, force_complex_output, **default_kwargs)\u001B[39m\n\u001B[32m     39\u001B[39m \u001B[38;5;28;01mfor\u001B[39;00m ufunc \u001B[38;5;129;01min\u001B[39;00m ufuncs_iter:\n\u001B[32m     40\u001B[39m     \u001B[38;5;28;01mif\u001B[39;00m \u001B[38;5;129;01mnot\u001B[39;00m \u001B[38;5;28misinstance\u001B[39m(ufunc, np.ufunc):\n\u001B[32m---> \u001B[39m\u001B[32m41\u001B[39m         \u001B[38;5;28;01mraise\u001B[39;00m \u001B[38;5;167;01mValueError\u001B[39;00m(\u001B[33m\"\u001B[39m\u001B[33mAll ufuncs must have type `numpy.ufunc`.\u001B[39m\u001B[33m\"\u001B[39m\n\u001B[32m     42\u001B[39m                          \u001B[33mf\u001B[39m\u001B[33m\"\u001B[39m\u001B[33m Received \u001B[39m\u001B[38;5;132;01m{\u001B[39;00mufunc_or_ufuncs\u001B[38;5;132;01m}\u001B[39;00m\u001B[33m\"\u001B[39m)\n\u001B[32m     43\u001B[39m     seen_input_types.add(\u001B[38;5;28mfrozenset\u001B[39m(x.split(\u001B[33m\"\u001B[39m\u001B[33m->\u001B[39m\u001B[33m\"\u001B[39m)[\u001B[32m0\u001B[39m] \u001B[38;5;28;01mfor\u001B[39;00m x \u001B[38;5;129;01min\u001B[39;00m ufunc.types))\n\u001B[32m     44\u001B[39m \u001B[38;5;28;01mif\u001B[39;00m \u001B[38;5;28mlen\u001B[39m(seen_input_types) > \u001B[32m1\u001B[39m:\n",
      "\u001B[31mValueError\u001B[39m: All ufuncs must have type `numpy.ufunc`. Received (<ufunc 'sph_legendre_p'>, <ufunc 'sph_legendre_p'>, <ufunc 'sph_legendre_p'>)"
     ]
    }
   ],
   "execution_count": 76
  },
  {
   "metadata": {
    "ExecuteTime": {
     "end_time": "2025-03-27T23:58:16.031669Z",
     "start_time": "2025-03-27T23:58:16.028988Z"
    }
   },
   "cell_type": "code",
   "source": [
    "text_splitter = CharacterTextSplitter(chunk_size=512, chunk_overlap=50)\n",
    "chunks = text_splitter.split_documents(documents)\n",
    "print(f\"Total number of chunks: {len(chunks)}\")\n",
    "print(f\"Document types found: {set(doc.metadata['doc_type'] for doc in documents)}\")\n"
   ],
   "id": "dd6aa3643f808ccf",
   "outputs": [
    {
     "name": "stdout",
     "output_type": "stream",
     "text": [
      "Total number of chunks: 13\n",
      "Document types found: {'resume', 'text'}\n"
     ]
    }
   ],
   "execution_count": 59
  },
  {
   "metadata": {
    "ExecuteTime": {
     "end_time": "2025-03-27T23:58:17.357326Z",
     "start_time": "2025-03-27T23:58:16.032247Z"
    }
   },
   "cell_type": "code",
   "source": [
    "embeddings = OpenAIEmbeddings()\n",
    "\n",
    "if os.path.exists(db_name):\n",
    "    Chroma(persist_directory=db_name, embedding_function=embeddings).delete_collection()\n",
    "    \n",
    "\n",
    "vector_db = Chroma.from_documents(documents= chunks, embedding=embeddings, persist_directory=db_name)\n",
    "\n",
    "print(f\"Total number of vectors in the database: {vector_db._collection.count()} documents\")"
   ],
   "id": "e917f1315bd6a54c",
   "outputs": [
    {
     "name": "stdout",
     "output_type": "stream",
     "text": [
      "Total number of vectors in the database: 13 documents\n"
     ]
    }
   ],
   "execution_count": 60
  },
  {
   "metadata": {
    "ExecuteTime": {
     "end_time": "2025-03-27T23:58:17.362262Z",
     "start_time": "2025-03-27T23:58:17.358054Z"
    }
   },
   "cell_type": "code",
   "source": [
    "collection = vector_db._collection\n",
    "count = collection.count()\n",
    "\n",
    "sample_embedding = collection.get(limit=1, include=[\"embeddings\"])[\"embeddings\"][0]\n",
    "dimensions = len(sample_embedding)\n",
    "print(f\"There are {count:,} vectors with {dimensions:,} dimensions in the vector store\")"
   ],
   "id": "daace9b9bd29b568",
   "outputs": [
    {
     "name": "stdout",
     "output_type": "stream",
     "text": [
      "There are 13 vectors with 1,536 dimensions in the vector store\n"
     ]
    }
   ],
   "execution_count": 61
  },
  {
   "metadata": {
    "ExecuteTime": {
     "end_time": "2025-03-27T23:58:17.392170Z",
     "start_time": "2025-03-27T23:58:17.362961Z"
    }
   },
   "cell_type": "code",
   "source": [
    "llm = ChatOpenAI(temperature=0.5, model=MODEL)\n",
    "memory = ConversationBufferMemory(memory_key='chat_history', return_messages=True)\n",
    "\n",
    "retriever= vector_db.as_retriever()\n",
    "conversation_chain = ConversationalRetrievalChain.from_llm(llm=llm, retriever=retriever, memory=memory)\n"
   ],
   "id": "ee97834e39e657c2",
   "outputs": [],
   "execution_count": 62
  },
  {
   "metadata": {
    "ExecuteTime": {
     "end_time": "2025-03-27T23:58:19.258838Z",
     "start_time": "2025-03-27T23:58:17.392785Z"
    }
   },
   "cell_type": "code",
   "source": [
    "query = \"What is Om currently studying?\"\n",
    "result = conversation_chain.invoke({\"question\": query})\n",
    "print(result[\"answer\"])"
   ],
   "id": "babd6a36e359cb7e",
   "outputs": [
    {
     "name": "stdout",
     "output_type": "stream",
     "text": [
      "Om is currently studying for a Master of Science in Computer Science at the University of North Carolina at Chapel Hill.\n"
     ]
    }
   ],
   "execution_count": 63
  },
  {
   "metadata": {
    "ExecuteTime": {
     "end_time": "2025-03-27T23:58:19.266117Z",
     "start_time": "2025-03-27T23:58:19.260337Z"
    }
   },
   "cell_type": "code",
   "source": [
    "def chatbot(question, history):\n",
    "    result = conversation_chain.invoke({\"question\": question})\n",
    "    return result['answer']"
   ],
   "id": "64ac22bd6588d460",
   "outputs": [],
   "execution_count": 64
  },
  {
   "metadata": {
    "ExecuteTime": {
     "end_time": "2025-03-27T23:58:21.437899Z",
     "start_time": "2025-03-27T23:58:19.267259Z"
    }
   },
   "cell_type": "code",
   "source": "view = gr.ChatInterface(chatbot, type=\"messages\").launch(inbrowser=True, share=True)",
   "id": "cc75f70af1a0b545",
   "outputs": [
    {
     "name": "stdout",
     "output_type": "stream",
     "text": [
      "* Running on local URL:  http://127.0.0.1:7862\n",
      "* Running on public URL: https://31c44daafa542b49cf.gradio.live\n",
      "\n",
      "This share link expires in 72 hours. For free permanent hosting and GPU upgrades, run `gradio deploy` from the terminal in the working directory to deploy to Hugging Face Spaces (https://huggingface.co/spaces)\n"
     ]
    },
    {
     "data": {
      "text/plain": [
       "<IPython.core.display.HTML object>"
      ],
      "text/html": [
       "<div><iframe src=\"https://31c44daafa542b49cf.gradio.live\" width=\"100%\" height=\"500\" allow=\"autoplay; camera; microphone; clipboard-read; clipboard-write;\" frameborder=\"0\" allowfullscreen></iframe></div>"
      ]
     },
     "metadata": {},
     "output_type": "display_data"
    }
   ],
   "execution_count": 65
  },
  {
   "metadata": {
    "ExecuteTime": {
     "end_time": "2025-03-27T23:58:21.442360Z",
     "start_time": "2025-03-27T23:58:21.439868Z"
    }
   },
   "cell_type": "code",
   "source": "",
   "id": "23ad78a6744d25c3",
   "outputs": [],
   "execution_count": 65
  }
 ],
 "metadata": {
  "kernelspec": {
   "display_name": "Python 3",
   "language": "python",
   "name": "python3"
  },
  "language_info": {
   "codemirror_mode": {
    "name": "ipython",
    "version": 2
   },
   "file_extension": ".py",
   "mimetype": "text/x-python",
   "name": "python",
   "nbconvert_exporter": "python",
   "pygments_lexer": "ipython2",
   "version": "2.7.6"
  }
 },
 "nbformat": 4,
 "nbformat_minor": 5
}
